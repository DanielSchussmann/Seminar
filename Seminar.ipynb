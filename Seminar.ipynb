{
  "nbformat": 4,
  "nbformat_minor": 0,
  "metadata": {
    "colab": {
      "name": "Seminar.ipynb",
      "provenance": [],
      "collapsed_sections": [],
      "authorship_tag": "ABX9TyNnOMrlelJ9LHHauPSpjODI",
      "include_colab_link": true
    },
    "kernelspec": {
      "name": "python3",
      "display_name": "Python 3"
    },
    "language_info": {
      "name": "python"
    }
  },
  "cells": [
    {
      "cell_type": "markdown",
      "metadata": {
        "id": "view-in-github",
        "colab_type": "text"
      },
      "source": [
        "<a href=\"https://colab.research.google.com/github/DanielSchussmann/Seminar/blob/main/Seminar.ipynb\" target=\"_parent\"><img src=\"https://colab.research.google.com/assets/colab-badge.svg\" alt=\"Open In Colab\"/></a>"
      ]
    },
    {
      "cell_type": "markdown",
      "metadata": {
        "id": "C6GbCAegmFQR"
      },
      "source": [
        "# $$\\text{Machine Learning updates} $$"
      ]
    },
    {
      "cell_type": "markdown",
      "metadata": {
        "id": "Jjrh7X6moSrR"
      },
      "source": [
        "##$$\\text{ Variables}$$ \n",
        "$$b = \\text{Bias} \\\\\n",
        "x_i = \\text{input/value}\\\\\n",
        "w_i = \\text{weight}$$"
      ]
    },
    {
      "cell_type": "markdown",
      "metadata": {
        "id": "cZocJ6h2n3A5"
      },
      "source": [
        "$$\\sigma(\\sum w_i * x_i +b)$$"
      ]
    },
    {
      "cell_type": "code",
      "metadata": {
        "colab": {
          "base_uri": "https://localhost:8080/"
        },
        "id": "_g5x6cQok-Qk",
        "outputId": "b379e7ab-d5d0-473d-f82b-2b0e14b1fb49"
      },
      "source": [
        "import numpy as np\n",
        "\n",
        "a= np.random.randn(2,4) #creates a Matrix of Standard distributed values maching the paramter dimensions\n",
        "a"
      ],
      "execution_count": 10,
      "outputs": [
        {
          "output_type": "execute_result",
          "data": {
            "text/plain": [
              "array([[-0.87302466,  1.17997524, -0.33669142, -0.77630768],\n",
              "       [ 1.16224348, -0.28885221,  0.43584297,  1.20120941]])"
            ]
          },
          "metadata": {},
          "execution_count": 10
        }
      ]
    }
  ]
}