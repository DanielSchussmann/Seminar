{
  "nbformat": 4,
  "nbformat_minor": 0,
  "metadata": {
    "colab": {
      "name": "Seminar.ipynb",
      "provenance": [],
      "collapsed_sections": [],
      "authorship_tag": "ABX9TyPV2gHwwdwyaOpONyds8oXn",
      "include_colab_link": true
    },
    "kernelspec": {
      "name": "python3",
      "display_name": "Python 3"
    },
    "language_info": {
      "name": "python"
    }
  },
  "cells": [
    {
      "cell_type": "markdown",
      "metadata": {
        "id": "view-in-github",
        "colab_type": "text"
      },
      "source": [
        "<a href=\"https://colab.research.google.com/github/DanielSchussmann/Seminar/blob/main/Seminar.ipynb\" target=\"_parent\"><img src=\"https://colab.research.google.com/assets/colab-badge.svg\" alt=\"Open In Colab\"/></a>"
      ]
    },
    {
      "cell_type": "markdown",
      "metadata": {
        "id": "C6GbCAegmFQR"
      },
      "source": [
        "# $$\\text{Machine Learning updates} $$"
      ]
    },
    {
      "cell_type": "markdown",
      "metadata": {
        "id": "Jjrh7X6moSrR"
      },
      "source": [
        "\n",
        "##$$\\text{ Variables}$$ \n",
        "\n",
        "$$ i = \\text{parameter for the layer}$$\n",
        "$$ j,l= \\text{parameter for the position inside the i-th layer}$$\n",
        "$$ b_{i,j} = \\text{Bias of neuron} $$\n",
        "\n",
        "$$ x_{i,j} = \\text{input value / fireing rate}$$\n",
        "$$ w_{i,j,l} = \\text{weight of connection, k and l are destination neuron}$$\n",
        "$$\\sigma = \\text{activation function}$$\n",
        "$$n_i = \\text{number of neurons in the i-th layer}$$\n",
        "\n",
        "(add illustration for clarification)"
      ]
    },
    {
      "cell_type": "markdown",
      "metadata": {
        "id": "cZocJ6h2n3A5"
      },
      "source": [
        "$$x_{i+1,j} = \\sigma [\\sum_{j=1}^{n_i}(w_{(i,j,l)}^T * x_{i,j}) +b_{i+1,j}] \\text{(not a recursive expression)}$$\n",
        "$$ .\\\\.\\\\.\\\\ x_{1,1} = \\sigma [\\sum_{j=1}^{n_0}(w_{(0,j,1)}^T * x_{0,j}) +b_{1,1}] \\\\ $$\n",
        "$$ x_{2,4} = \\sigma [\\sum_{j=1}^{n_1}(w_{(1,j,4)}^T * x_{1,j}) +b_{2,4}] \\\\ $$"
      ]
    },
    {
      "cell_type": "code",
      "metadata": {
        "colab": {
          "base_uri": "https://localhost:8080/"
        },
        "id": "_g5x6cQok-Qk",
        "outputId": "6648f9ba-489d-4c4d-f012-5eb2db564e7e"
      },
      "source": [
        "#WHY USE A FRAMEWORK LIKE TENSORFLOW\n",
        "import tensorflow as tf\n",
        "\n",
        "raw_data = [5.48813504, 7.15189366, 6.02763376, 5.44883183, 4.23654799, 6.45894113, 4.37587211, 8.91773001, 9.63662761, 3.83441519]\n",
        "\n",
        "\n",
        "#--Normalizing-without-any-libraries-------------------------------\n",
        "\n",
        "def normalize(inp):\n",
        "    A = [i*i for i in inp]\n",
        "    v = (sum(A))**(0.5)\n",
        "    A = [i / v for i in inp]\n",
        "    return A\n",
        "\n",
        "\n",
        "print(normalize(raw_data))\n",
        "\n",
        "\n",
        "#--Normalizing-with-Tensorflow-------------------------------------\n",
        "\n",
        "\n",
        "print(tf.keras.utils.normalize(raw_data))\n",
        "\n",
        "\n"
      ],
      "execution_count": 51,
      "outputs": [
        {
          "output_type": "stream",
          "name": "stdout",
          "text": [
            "[0.2699883994478898, 0.3518368823309622, 0.296528999279228, 0.26805488092407004, 0.20841666662128538, 0.3177471336085864, 0.2152707064525075, 0.4387070716299857, 0.4740731861618412, 0.18863377311626361]\n",
            "[[0.2699884  0.35183688 0.296529   0.26805488 0.20841667 0.31774713\n",
            "  0.21527071 0.43870707 0.47407319 0.18863377]]\n"
          ]
        }
      ]
    }
  ]
}