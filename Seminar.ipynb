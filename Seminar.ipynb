{
  "nbformat": 4,
  "nbformat_minor": 0,
  "metadata": {
    "colab": {
      "name": "Seminar.ipynb",
      "provenance": [],
      "collapsed_sections": [],
      "authorship_tag": "ABX9TyOiuDT0+TWxdx36u3Cpub55",
      "include_colab_link": true
    },
    "kernelspec": {
      "name": "python3",
      "display_name": "Python 3"
    },
    "language_info": {
      "name": "python"
    }
  },
  "cells": [
    {
      "cell_type": "markdown",
      "metadata": {
        "id": "view-in-github",
        "colab_type": "text"
      },
      "source": [
        "<a href=\"https://colab.research.google.com/github/DanielSchussmann/Seminar/blob/main/Seminar.ipynb\" target=\"_parent\"><img src=\"https://colab.research.google.com/assets/colab-badge.svg\" alt=\"Open In Colab\"/></a>"
      ]
    },
    {
      "cell_type": "markdown",
      "metadata": {
        "id": "C6GbCAegmFQR"
      },
      "source": [
        "# $$\\text{Machine Learning updates} $$"
      ]
    },
    {
      "cell_type": "markdown",
      "metadata": {
        "id": "Jjrh7X6moSrR"
      },
      "source": [
        "##$$\\text{ Variables}$$ \n",
        "\n",
        "$$ i,k = \\text{parameter for the layer}$$\n",
        "$$ j,l= \\text{parameter for the position inside the i-th layer}$$\n",
        "$$ b_{i,j} = \\text{Bias of neuron} $$\n",
        "\n",
        "$$ x_{i,j} = \\text{input value / fireing rate}$$\n",
        "$$ w_{i,j,k,l} = \\text{weight of connection, k and l are destination neuron}$$\n",
        "$$\\sigma = \\text{activation function}$$\n",
        "$$n_i = \\text{number of neurons in the i-th layer}$$\n",
        "\n",
        "(add illustration for clarification)"
      ]
    },
    {
      "cell_type": "markdown",
      "metadata": {
        "id": "cZocJ6h2n3A5"
      },
      "source": [
        "$$x_{i+1,j} = \\sigma [\\sum_{j=1}^{n_i}(w_{(i,j,k,l)}^T * x_{i,j}) +b_{i+1,j}] \\text{(not a recursive expression)}$$\n",
        "$$ .\\\\.\\\\.\\\\ x_{1,1} = \\sigma [\\sum_{j=1}^{n_0}(w_{(0,j,1,1)}^T * x_{0,j}) +b_{1,1}] \\\\ $$\n",
        "$$ x_{2,4} = \\sigma [\\sum_{j=1}^{n_1}(w_{(1,j,2,4)}^T * x_{1,j}) +b_{2,4}] \\\\ $$"
      ]
    },
    {
      "cell_type": "code",
      "metadata": {
        "colab": {
          "base_uri": "https://localhost:8080/"
        },
        "id": "_g5x6cQok-Qk",
        "outputId": "b379e7ab-d5d0-473d-f82b-2b0e14b1fb49"
      },
      "source": [
        "import numpy as np\n",
        "\n",
        "a= np.random.randn(2,4) #creates a Matrix of Standard distributed values maching the paramter dimensions\n",
        "a"
      ],
      "execution_count": null,
      "outputs": [
        {
          "output_type": "execute_result",
          "data": {
            "text/plain": [
              "array([[-0.87302466,  1.17997524, -0.33669142, -0.77630768],\n",
              "       [ 1.16224348, -0.28885221,  0.43584297,  1.20120941]])"
            ]
          },
          "metadata": {},
          "execution_count": 10
        }
      ]
    }
  ]
}